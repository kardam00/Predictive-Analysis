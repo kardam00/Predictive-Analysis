{
  "nbformat": 4,
  "nbformat_minor": 0,
  "metadata": {
    "colab": {
      "provenance": [],
      "collapsed_sections": [
        "s4s4iDbErpkU"
      ]
    },
    "kernelspec": {
      "name": "python3",
      "display_name": "Python 3"
    },
    "language_info": {
      "name": "python"
    }
  },
  "cells": [
    {
      "cell_type": "markdown",
      "source": [
        "## Required Libraries"
      ],
      "metadata": {
        "id": "1fq04TNBrhIA"
      }
    },
    {
      "cell_type": "code",
      "source": [
        "!pip install fastapi uvicorn scikit-learn pandas pydantic\n"
      ],
      "metadata": {
        "colab": {
          "base_uri": "https://localhost:8080/"
        },
        "id": "Ibv9JOd6rgiw",
        "outputId": "2d1aa0a4-cd7e-4b51-ea8b-98da951ff7b8"
      },
      "execution_count": 98,
      "outputs": [
        {
          "output_type": "stream",
          "name": "stdout",
          "text": [
            "Requirement already satisfied: fastapi in /usr/local/lib/python3.11/dist-packages (0.115.7)\n",
            "Requirement already satisfied: uvicorn in /usr/local/lib/python3.11/dist-packages (0.34.0)\n",
            "Requirement already satisfied: scikit-learn in /usr/local/lib/python3.11/dist-packages (1.6.0)\n",
            "Requirement already satisfied: pandas in /usr/local/lib/python3.11/dist-packages (2.2.2)\n",
            "Requirement already satisfied: pydantic in /usr/local/lib/python3.11/dist-packages (2.10.5)\n",
            "Requirement already satisfied: starlette<0.46.0,>=0.40.0 in /usr/local/lib/python3.11/dist-packages (from fastapi) (0.45.2)\n",
            "Requirement already satisfied: typing-extensions>=4.8.0 in /usr/local/lib/python3.11/dist-packages (from fastapi) (4.12.2)\n",
            "Requirement already satisfied: click>=7.0 in /usr/local/lib/python3.11/dist-packages (from uvicorn) (8.1.8)\n",
            "Requirement already satisfied: h11>=0.8 in /usr/local/lib/python3.11/dist-packages (from uvicorn) (0.14.0)\n",
            "Requirement already satisfied: numpy>=1.19.5 in /usr/local/lib/python3.11/dist-packages (from scikit-learn) (1.26.4)\n",
            "Requirement already satisfied: scipy>=1.6.0 in /usr/local/lib/python3.11/dist-packages (from scikit-learn) (1.13.1)\n",
            "Requirement already satisfied: joblib>=1.2.0 in /usr/local/lib/python3.11/dist-packages (from scikit-learn) (1.4.2)\n",
            "Requirement already satisfied: threadpoolctl>=3.1.0 in /usr/local/lib/python3.11/dist-packages (from scikit-learn) (3.5.0)\n",
            "Requirement already satisfied: python-dateutil>=2.8.2 in /usr/local/lib/python3.11/dist-packages (from pandas) (2.8.2)\n",
            "Requirement already satisfied: pytz>=2020.1 in /usr/local/lib/python3.11/dist-packages (from pandas) (2024.2)\n",
            "Requirement already satisfied: tzdata>=2022.7 in /usr/local/lib/python3.11/dist-packages (from pandas) (2024.2)\n",
            "Requirement already satisfied: annotated-types>=0.6.0 in /usr/local/lib/python3.11/dist-packages (from pydantic) (0.7.0)\n",
            "Requirement already satisfied: pydantic-core==2.27.2 in /usr/local/lib/python3.11/dist-packages (from pydantic) (2.27.2)\n",
            "Requirement already satisfied: six>=1.5 in /usr/local/lib/python3.11/dist-packages (from python-dateutil>=2.8.2->pandas) (1.17.0)\n",
            "Requirement already satisfied: anyio<5,>=3.6.2 in /usr/local/lib/python3.11/dist-packages (from starlette<0.46.0,>=0.40.0->fastapi) (3.7.1)\n",
            "Requirement already satisfied: idna>=2.8 in /usr/local/lib/python3.11/dist-packages (from anyio<5,>=3.6.2->starlette<0.46.0,>=0.40.0->fastapi) (3.10)\n",
            "Requirement already satisfied: sniffio>=1.1 in /usr/local/lib/python3.11/dist-packages (from anyio<5,>=3.6.2->starlette<0.46.0,>=0.40.0->fastapi) (1.3.1)\n"
          ]
        }
      ]
    },
    {
      "cell_type": "code",
      "execution_count": 99,
      "metadata": {
        "id": "TFaSuji0ofH5"
      },
      "outputs": [],
      "source": [
        "import pandas as pd\n",
        "import numpy as np\n",
        "\n",
        "from sklearn.model_selection import train_test_split\n",
        "from sklearn.linear_model import LogisticRegression\n",
        "from sklearn.metrics import accuracy_score, classification_report, confusion_matrix\n",
        "from sklearn.preprocessing import StandardScaler, OneHotEncoder\n",
        "\n",
        "from fastapi import FastAPI, File, UploadFile\n",
        "from pydantic import BaseModel\n"
      ]
    },
    {
      "cell_type": "markdown",
      "source": [
        "## Load Data\n"
      ],
      "metadata": {
        "id": "s4s4iDbErpkU"
      }
    },
    {
      "cell_type": "code",
      "source": [
        "# Generate synthetic data\n",
        "np.random.seed(42)\n",
        "m = 100\n",
        "data = {\n",
        "    \"Machine_ID\": np.arange(1, m+1),\n",
        "    \"Temperature\": np.random.uniform(50, 100, m),\n",
        "    \"Run_Time\": np.random.uniform(10, 200, m),\n",
        "    \"Downtime_Flag\": np.random.choice([0, 1], size=m, p=[0.7, 0.3]),\n",
        "    \"Pressure\": np.random.uniform(20, 150, m),\n",
        "    \"Vibration_Level\": np.random.uniform(0, 10, m),\n",
        "    \"Maintenance_Schedule\": np.random.choice([\"Yes\", \"No\"], size=m, p=[0.4, 0.6])\n",
        "}\n",
        "\n",
        "df = pd.DataFrame(data)\n",
        "\n",
        "# Save to a CSV file\n",
        "df.to_csv(\"manufacturing_data.csv\", index=False)\n",
        "\n"
      ],
      "metadata": {
        "id": "KxoVc9Xerp26"
      },
      "execution_count": 100,
      "outputs": []
    },
    {
      "cell_type": "code",
      "source": [
        "# Load Dataset\n",
        "df = pd.read_csv(\"manufacturing_data.csv\")\n",
        "print(df.head())\n"
      ],
      "metadata": {
        "colab": {
          "base_uri": "https://localhost:8080/"
        },
        "id": "YDYcd1THrygE",
        "outputId": "9f72be31-44d7-44ba-a32e-aa69150b09a1"
      },
      "execution_count": 101,
      "outputs": [
        {
          "output_type": "stream",
          "name": "stdout",
          "text": [
            "   Machine_ID  Temperature    Run_Time  Downtime_Flag    Pressure  \\\n",
            "0           1    68.727006   15.971545              0   26.718624   \n",
            "1           2    97.535715  130.917978              0   89.076102   \n",
            "2           3    86.599697   69.727636              0   90.282566   \n",
            "3           4    79.932924  106.628431              1  102.865887   \n",
            "4           5    57.800932  182.437630              0  114.391873   \n",
            "\n",
            "   Vibration_Level Maintenance_Schedule  \n",
            "0         1.031239                   No  \n",
            "1         9.025529                   No  \n",
            "2         5.052524                  Yes  \n",
            "3         8.264575                   No  \n",
            "4         3.200496                   No  \n"
          ]
        }
      ]
    },
    {
      "cell_type": "markdown",
      "source": [
        "## Data Processing"
      ],
      "metadata": {
        "id": "mUqt6NxK0TNd"
      }
    },
    {
      "cell_type": "code",
      "source": [
        "# Identify categorical columns (non-numeric)\n",
        "categorical_cols = df.select_dtypes(include=[\"object\"]).columns.tolist()\n",
        "\n",
        "# Handle categorical columns: One-Hot Encoding\n",
        "if categorical_cols:\n",
        "  encoder = OneHotEncoder(sparse_output=False, handle_unknown=\"ignore\")\n",
        "  encoded_data = encoder.fit_transform(df[categorical_cols])\n",
        "  encoded_df = pd.DataFrame(encoded_data, columns=encoder.get_feature_names_out(categorical_cols))\n",
        "  df = pd.concat([df.drop(categorical_cols, axis=1), encoded_df], axis=1)\n",
        ""
      ],
      "metadata": {
        "id": "_W8RId-l0ceu"
      },
      "execution_count": 102,
      "outputs": []
    },
    {
      "cell_type": "code",
      "source": [
        "# Identify the target column (assumes 'Downtime_Flag' as target, adjust if necessary)\n",
        "target_column = None\n",
        "for column in df.columns:\n",
        "  if \"Flag\" in column or \"target\" in column.lower():  # Modify based on common naming conventions\n",
        "    target_column = column\n",
        "    break\n",
        "\n",
        "if target_column is None:\n",
        "  raise ValueError(\"Target column not found in the dataset\")\n",
        "\n",
        "# Separate features and target\n",
        "X = df.drop(columns=[target_column])\n",
        "y = df[target_column]\n",
        "\n",
        "\n",
        "print(target_column)"
      ],
      "metadata": {
        "colab": {
          "base_uri": "https://localhost:8080/"
        },
        "id": "CdgF8soc0QtD",
        "outputId": "53f8c03f-49b1-4777-e178-bfe01646e4d4"
      },
      "execution_count": 103,
      "outputs": [
        {
          "output_type": "stream",
          "name": "stdout",
          "text": [
            "Downtime_Flag\n"
          ]
        }
      ]
    },
    {
      "cell_type": "code",
      "source": [
        "# Feature scaling for numerical columns\n",
        "numerical_cols = X.select_dtypes(include=[np.number]).columns.tolist()\n",
        "scaler = StandardScaler()\n",
        "X[numerical_cols] = scaler.fit_transform(X[numerical_cols])\n"
      ],
      "metadata": {
        "id": "qMyJ_mNptRDC"
      },
      "execution_count": 104,
      "outputs": []
    },
    {
      "cell_type": "markdown",
      "source": [
        "## Predictive Model\n"
      ],
      "metadata": {
        "id": "y50tWTx3snSp"
      }
    },
    {
      "cell_type": "code",
      "source": [
        "# Split data into training and testing sets\n",
        "X_train, X_test, y_train, y_test = train_test_split(X, y, test_size=0.1, random_state=42)\n"
      ],
      "metadata": {
        "id": "jH092HNwsj9W"
      },
      "execution_count": 105,
      "outputs": []
    },
    {
      "cell_type": "code",
      "source": [
        "# Train the model\n",
        "model = LogisticRegression(max_iter=1000)\n",
        "model.fit(X_train, y_train)\n",
        "\n",
        "# Evaluate the model\n",
        "y_pred = model.predict(X_test)\n",
        "accuracy = accuracy_score(y_test, y_pred)\n",
        "\n",
        "# Print evaluation results\n",
        "print(f\"Accuracy: {accuracy}\")\n",
        "print(\"\\nClassification Report:\\n\", classification_report(y_test, y_pred))\n",
        "print(\"\\nConfusion Matrix:\\n\", confusion_matrix(y_test, y_pred))"
      ],
      "metadata": {
        "colab": {
          "base_uri": "https://localhost:8080/"
        },
        "id": "luDQeEhQsimE",
        "outputId": "f3b416ef-e091-47c8-c398-05ec10b5cb1f"
      },
      "execution_count": 60,
      "outputs": [
        {
          "output_type": "stream",
          "name": "stdout",
          "text": [
            "Accuracy: 0.699942\n"
          ]
        },
        {
          "output_type": "stream",
          "name": "stderr",
          "text": [
            "/usr/local/lib/python3.11/dist-packages/sklearn/metrics/_classification.py:1565: UndefinedMetricWarning: Precision is ill-defined and being set to 0.0 in labels with no predicted samples. Use `zero_division` parameter to control this behavior.\n",
            "  _warn_prf(average, modifier, f\"{metric.capitalize()} is\", len(result))\n",
            "/usr/local/lib/python3.11/dist-packages/sklearn/metrics/_classification.py:1565: UndefinedMetricWarning: Precision is ill-defined and being set to 0.0 in labels with no predicted samples. Use `zero_division` parameter to control this behavior.\n",
            "  _warn_prf(average, modifier, f\"{metric.capitalize()} is\", len(result))\n",
            "/usr/local/lib/python3.11/dist-packages/sklearn/metrics/_classification.py:1565: UndefinedMetricWarning: Precision is ill-defined and being set to 0.0 in labels with no predicted samples. Use `zero_division` parameter to control this behavior.\n",
            "  _warn_prf(average, modifier, f\"{metric.capitalize()} is\", len(result))\n"
          ]
        },
        {
          "output_type": "stream",
          "name": "stdout",
          "text": [
            "\n",
            "Classification Report:\n",
            "               precision    recall  f1-score   support\n",
            "\n",
            "           0       0.70      1.00      0.82    699942\n",
            "           1       0.00      0.00      0.00    300058\n",
            "\n",
            "    accuracy                           0.70   1000000\n",
            "   macro avg       0.35      0.50      0.41   1000000\n",
            "weighted avg       0.49      0.70      0.58   1000000\n",
            "\n",
            "\n",
            "Confusion Matrix:\n",
            " [[699942      0]\n",
            " [300058      0]]\n"
          ]
        }
      ]
    },
    {
      "cell_type": "code",
      "source": [],
      "metadata": {
        "id": "ddGIGy-Zxwhj"
      },
      "execution_count": null,
      "outputs": []
    }
  ]
}